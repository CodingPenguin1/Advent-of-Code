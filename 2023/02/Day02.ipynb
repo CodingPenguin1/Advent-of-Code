{
 "cells": [
  {
   "cell_type": "markdown",
   "metadata": {},
   "source": [
    "### Part 1\n"
   ]
  },
  {
   "cell_type": "code",
   "execution_count": 46,
   "metadata": {},
   "outputs": [],
   "source": [
    "def check_game(game):\n",
    "    game_id = int(game.split(' ')[1].strip(':'))\n",
    "\n",
    "    colors = {}\n",
    "    game = game[game.index(':')+2:].replace(';', ',')\n",
    "    for cubes in game.split(','):\n",
    "        count, color = cubes.strip().split(' ')\n",
    "        count = int(count)\n",
    "        if color not in colors or count > colors[color]:\n",
    "            colors[color] = count\n",
    "\n",
    "    if colors['red'] <= 12 and colors['green'] <= 13 and colors['blue'] <= 14:\n",
    "        return game_id\n",
    "    return 0"
   ]
  },
  {
   "cell_type": "code",
   "execution_count": 47,
   "metadata": {},
   "outputs": [
    {
     "name": "stdout",
     "output_type": "stream",
     "text": [
      "3059\n"
     ]
    }
   ],
   "source": [
    "with open('input.txt') as f:\n",
    "    content = f.readlines()\n",
    "    print(sum(check_game(line) for line in content))"
   ]
  },
  {
   "cell_type": "markdown",
   "metadata": {},
   "source": [
    "### Part 2\n"
   ]
  },
  {
   "cell_type": "code",
   "execution_count": 53,
   "metadata": {},
   "outputs": [],
   "source": [
    "from functools import reduce\n",
    "\n",
    "def get_power(game):\n",
    "    colors = {}\n",
    "    game = game[game.index(':')+2:].replace(';', ',')\n",
    "    for cubes in game.split(','):\n",
    "        count, color = cubes.strip().split(' ')\n",
    "        count = int(count)\n",
    "        if color not in colors or count > colors[color]:\n",
    "            colors[color] = count\n",
    "\n",
    "    # Return multiple of all counts\n",
    "    return reduce(lambda x, y: x*y, colors.values())"
   ]
  },
  {
   "cell_type": "code",
   "execution_count": 54,
   "metadata": {},
   "outputs": [
    {
     "name": "stdout",
     "output_type": "stream",
     "text": [
      "65371\n"
     ]
    }
   ],
   "source": [
    "with open('input.txt') as f:\n",
    "    content = f.readlines()\n",
    "    print(sum(get_power(line) for line in content))"
   ]
  },
  {
   "cell_type": "code",
   "execution_count": null,
   "metadata": {},
   "outputs": [],
   "source": []
  }
 ],
 "metadata": {
  "kernelspec": {
   "display_name": "Python 3",
   "language": "python",
   "name": "python3"
  },
  "language_info": {
   "codemirror_mode": {
    "name": "ipython",
    "version": 3
   },
   "file_extension": ".py",
   "mimetype": "text/x-python",
   "name": "python",
   "nbconvert_exporter": "python",
   "pygments_lexer": "ipython3",
   "version": "3.12.0"
  }
 },
 "nbformat": 4,
 "nbformat_minor": 2
}
