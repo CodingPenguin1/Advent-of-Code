{
 "cells": [
  {
   "cell_type": "markdown",
   "metadata": {},
   "source": [
    "### Part 1\n"
   ]
  },
  {
   "cell_type": "code",
   "execution_count": 4,
   "metadata": {},
   "outputs": [
    {
     "name": "stdout",
     "output_type": "stream",
     "text": [
      "535235\n"
     ]
    }
   ],
   "source": [
    "with open('input.txt', 'r') as f:\n",
    "    data = f.read().splitlines()\n",
    "\n",
    "sum_ = 0\n",
    "for line_idx, line in enumerate(data):\n",
    "    i = 0\n",
    "    while i < len(line):\n",
    "        char = line[i]\n",
    "\n",
    "        # If we've found a digit, find rest of number and bounds\n",
    "        if char.isdigit():\n",
    "            # Find the rest of the number\n",
    "            num = char\n",
    "            for i in range(i+1, len(line)):\n",
    "                if not line[i].isdigit():\n",
    "                    break\n",
    "                num += line[i]\n",
    "\n",
    "            # Get all coords around the number\n",
    "            min_y, max_y = max(0, line_idx-1), min(len(data), line_idx+2)\n",
    "            min_x, max_x = max(0, i-len(num)-1), min(len(line), i+1)\n",
    "\n",
    "            for y in range(min_y, max_y):\n",
    "                for x in range(min_x, max_x):\n",
    "                    done = False\n",
    "                    if not data[y][x].isdigit() and data[y][x] != '.':\n",
    "                        sum_ += int(num)\n",
    "                        done = True\n",
    "                        break\n",
    "                if done:\n",
    "                    break\n",
    "\n",
    "        i += 1\n",
    "\n",
    "print(sum_)"
   ]
  },
  {
   "cell_type": "markdown",
   "metadata": {},
   "source": [
    "### Part 2\n"
   ]
  },
  {
   "cell_type": "code",
   "execution_count": 5,
   "metadata": {},
   "outputs": [],
   "source": [
    "def get_int_from_line(line, i, forward=True):\n",
    "    num = line[i]\n",
    "    if forward:\n",
    "        for i in range(i+1, len(line)):\n",
    "            if not line[i].isdigit():\n",
    "                break\n",
    "            num += line[i]\n",
    "    else:\n",
    "        for i in range(i-1, -1, -1):\n",
    "            if not line[i].isdigit():\n",
    "                break\n",
    "            num = line[i] + num\n",
    "\n",
    "    return int(num)\n",
    "\n",
    "\n",
    "def get_nums_above_or_below(data, line_idx, i):\n",
    "    line = data[line_idx][i-3:i+4]\n",
    "    # Replace all non-period symbols with '.'\n",
    "    for char in '!@#$%^&*()_+-=,/<>?;:\\'\"[]{}\\\\|~`':\n",
    "        line = line.replace(char, '.')\n",
    "\n",
    "    if line[2] == '.' and line[3] == '.' and line[4] == '.':\n",
    "        return []\n",
    "    elif line[2] == '.' and line[3] == '.':\n",
    "        return [get_int_from_line(line, 4, forward=True)]\n",
    "    elif line[2] == '.' and line[4] == '.':\n",
    "        return [int(line[3])]\n",
    "    elif line[2] == '.':\n",
    "        return [get_int_from_line(line, 3, forward=True)]\n",
    "    elif line[3] == '.' and line[4] == '.':\n",
    "        return [get_int_from_line(line, 2, forward=False)]\n",
    "    elif line[3] == '.':\n",
    "        return [get_int_from_line(line, 2, forward=False), get_int_from_line(line, 4, forward=True)]\n",
    "    elif line[4] == '.':\n",
    "        return [get_int_from_line(line, 3, forward=False)]\n",
    "    else:\n",
    "        return [get_int_from_line(line, 2, forward=True)]\n"
   ]
  },
  {
   "cell_type": "code",
   "execution_count": 6,
   "metadata": {},
   "outputs": [
    {
     "name": "stdout",
     "output_type": "stream",
     "text": [
      "79844424\n"
     ]
    }
   ],
   "source": [
    "sum_ = 0\n",
    "for line_idx, line in enumerate(data):\n",
    "    i = 0\n",
    "    while i < len(line) and not(done):\n",
    "        if line[i] == '*':\n",
    "            nums = []\n",
    "            nums.extend(get_nums_above_or_below(data, line_idx-1, i))\n",
    "            nums.extend(get_nums_above_or_below(data, line_idx+1, i))\n",
    "\n",
    "            # Check left\n",
    "            j = i\n",
    "            if j > 0 and line[j-1] != '.':\n",
    "                while j > 0 and line[j-1] != '.':\n",
    "                    j -= 1\n",
    "                nums.append(int(line[j:i]))\n",
    "            # Check right\n",
    "            j = i\n",
    "            if j < len(line)-1 and line[j+1] != '.':\n",
    "                while j < len(line)-1 and line[j+1] != '.':\n",
    "                    j += 1\n",
    "                nums.append(int(line[i+1:j+1]))\n",
    "\n",
    "            if len(nums) == 2:\n",
    "                sum_ += nums[0] * nums[1]\n",
    "\n",
    "        i += 1\n",
    "    if done:\n",
    "        break\n",
    "\n",
    "print(sum_)"
   ]
  }
 ],
 "metadata": {
  "kernelspec": {
   "display_name": "Python 3",
   "language": "python",
   "name": "python3"
  },
  "language_info": {
   "codemirror_mode": {
    "name": "ipython",
    "version": 3
   },
   "file_extension": ".py",
   "mimetype": "text/x-python",
   "name": "python",
   "nbconvert_exporter": "python",
   "pygments_lexer": "ipython3",
   "version": "3.12.0"
  }
 },
 "nbformat": 4,
 "nbformat_minor": 2
}
