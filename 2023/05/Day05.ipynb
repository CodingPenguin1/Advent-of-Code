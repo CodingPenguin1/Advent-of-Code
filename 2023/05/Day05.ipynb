{
 "cells": [
  {
   "cell_type": "markdown",
   "metadata": {},
   "source": [
    "### Part 1\n"
   ]
  },
  {
   "cell_type": "code",
   "execution_count": 1,
   "metadata": {},
   "outputs": [],
   "source": [
    "seeds = []\n",
    "maps = {}\n",
    "\n",
    "with open('input.txt') as f:\n",
    "    data = f.readlines()\n",
    "\n",
    "    seeds = [int(x) for x in data[0][7:].split(' ')]\n",
    "\n",
    "    current_map = []\n",
    "    current_map_name = ''\n",
    "    for line in data[2:]:\n",
    "        if line[0].isalpha():\n",
    "            current_map_name = line.split(' ')[0]\n",
    "        elif line[0].isdigit():\n",
    "            current_map.append([int(x) for x in line.split(' ')])\n",
    "        else:\n",
    "            maps[current_map_name] = current_map\n",
    "            current_map_name = ''\n",
    "            current_map = []\n",
    "    maps[current_map_name] = current_map"
   ]
  },
  {
   "cell_type": "code",
   "execution_count": 2,
   "metadata": {},
   "outputs": [],
   "source": [
    "def process_map(map_name, input_val):\n",
    "    map_ = maps[map_name]\n",
    "    for range_ in map_:\n",
    "        if input_val >= range_[1] and input_val <= range_[1] + range_[2] - 1:\n",
    "            offset = input_val - range_[1]\n",
    "            return range_[0] + offset\n",
    "    return input_val\n",
    "\n",
    "def get_seed_location(seed_num):\n",
    "    x = seed_num\n",
    "    for map_name in maps:\n",
    "        pre_x = x\n",
    "        from_name, to_name = map_name.split('-')[0], map_name.split('-')[-1]\n",
    "        x = process_map(map_name, x)\n",
    "        # print(f'Mapped {from_name} {pre_x} to {to_name} {x}')\n",
    "\n",
    "    return x\n"
   ]
  },
  {
   "cell_type": "code",
   "execution_count": 3,
   "metadata": {},
   "outputs": [
    {
     "name": "stdout",
     "output_type": "stream",
     "text": [
      "389056265\n"
     ]
    }
   ],
   "source": [
    "min_loc = None\n",
    "for seed_num in seeds:\n",
    "    loc = get_seed_location(seed_num)\n",
    "    if min_loc is None or loc < min_loc:\n",
    "        min_loc = loc\n",
    "print(min_loc)"
   ]
  },
  {
   "cell_type": "markdown",
   "metadata": {},
   "source": [
    "### Part 2\n"
   ]
  },
  {
   "cell_type": "code",
   "execution_count": 4,
   "metadata": {},
   "outputs": [],
   "source": [
    "from time import sleep\n",
    "\n",
    "def process_range(x):\n",
    "    for i in range(x):\n",
    "        sleep(1)\n",
    "    return 'Done'"
   ]
  },
  {
   "cell_type": "code",
   "execution_count": 6,
   "metadata": {},
   "outputs": [
    {
     "ename": "BrokenProcessPool",
     "evalue": "A process in the process pool was terminated abruptly while the future was running or pending.",
     "output_type": "error",
     "traceback": [
      "\u001b[1;31m---------------------------------------------------------------------------\u001b[0m",
      "\u001b[1;31mBrokenProcessPool\u001b[0m                         Traceback (most recent call last)",
      "\u001b[1;32mg:\\Other computers\\Veronica\\SyncedFiles\\Personal_Projects\\Advent-Of-Code-2023\\Day05\\Day05.ipynb Cell 7\u001b[0m line \u001b[0;36m1\n\u001b[0;32m     <a href='vscode-notebook-cell:/g%3A/Other%20computers/Veronica/SyncedFiles/Personal_Projects/Advent-Of-Code-2023/Day05/Day05.ipynb#X12sZmlsZQ%3D%3D?line=15'>16</a>\u001b[0m results \u001b[39m=\u001b[39m {}\n\u001b[0;32m     <a href='vscode-notebook-cell:/g%3A/Other%20computers/Veronica/SyncedFiles/Personal_Projects/Advent-Of-Code-2023/Day05/Day05.ipynb#X12sZmlsZQ%3D%3D?line=16'>17</a>\u001b[0m \u001b[39mfor\u001b[39;00m future \u001b[39min\u001b[39;00m as_completed(futures):\n\u001b[1;32m---> <a href='vscode-notebook-cell:/g%3A/Other%20computers/Veronica/SyncedFiles/Personal_Projects/Advent-Of-Code-2023/Day05/Day05.ipynb#X12sZmlsZQ%3D%3D?line=17'>18</a>\u001b[0m     results[futures[future]] \u001b[39m=\u001b[39m future\u001b[39m.\u001b[39;49mresult()\n\u001b[0;32m     <a href='vscode-notebook-cell:/g%3A/Other%20computers/Veronica/SyncedFiles/Personal_Projects/Advent-Of-Code-2023/Day05/Day05.ipynb#X12sZmlsZQ%3D%3D?line=18'>19</a>\u001b[0m         \u001b[39m# pbar.update(1)\u001b[39;00m\n\u001b[0;32m     <a href='vscode-notebook-cell:/g%3A/Other%20computers/Veronica/SyncedFiles/Personal_Projects/Advent-Of-Code-2023/Day05/Day05.ipynb#X12sZmlsZQ%3D%3D?line=19'>20</a>\u001b[0m \u001b[39mprint\u001b[39m(results)\n",
      "File \u001b[1;32mc:\\Users\\ryanj\\AppData\\Local\\Programs\\Python\\Python312\\Lib\\concurrent\\futures\\_base.py:449\u001b[0m, in \u001b[0;36mFuture.result\u001b[1;34m(self, timeout)\u001b[0m\n\u001b[0;32m    447\u001b[0m     \u001b[39mraise\u001b[39;00m CancelledError()\n\u001b[0;32m    448\u001b[0m \u001b[39melif\u001b[39;00m \u001b[39mself\u001b[39m\u001b[39m.\u001b[39m_state \u001b[39m==\u001b[39m FINISHED:\n\u001b[1;32m--> 449\u001b[0m     \u001b[39mreturn\u001b[39;00m \u001b[39mself\u001b[39;49m\u001b[39m.\u001b[39;49m__get_result()\n\u001b[0;32m    451\u001b[0m \u001b[39mself\u001b[39m\u001b[39m.\u001b[39m_condition\u001b[39m.\u001b[39mwait(timeout)\n\u001b[0;32m    453\u001b[0m \u001b[39mif\u001b[39;00m \u001b[39mself\u001b[39m\u001b[39m.\u001b[39m_state \u001b[39min\u001b[39;00m [CANCELLED, CANCELLED_AND_NOTIFIED]:\n",
      "File \u001b[1;32mc:\\Users\\ryanj\\AppData\\Local\\Programs\\Python\\Python312\\Lib\\concurrent\\futures\\_base.py:401\u001b[0m, in \u001b[0;36mFuture.__get_result\u001b[1;34m(self)\u001b[0m\n\u001b[0;32m    399\u001b[0m \u001b[39mif\u001b[39;00m \u001b[39mself\u001b[39m\u001b[39m.\u001b[39m_exception:\n\u001b[0;32m    400\u001b[0m     \u001b[39mtry\u001b[39;00m:\n\u001b[1;32m--> 401\u001b[0m         \u001b[39mraise\u001b[39;00m \u001b[39mself\u001b[39m\u001b[39m.\u001b[39m_exception\n\u001b[0;32m    402\u001b[0m     \u001b[39mfinally\u001b[39;00m:\n\u001b[0;32m    403\u001b[0m         \u001b[39m# Break a reference cycle with the exception in self._exception\u001b[39;00m\n\u001b[0;32m    404\u001b[0m         \u001b[39mself\u001b[39m \u001b[39m=\u001b[39m \u001b[39mNone\u001b[39;00m\n",
      "\u001b[1;31mBrokenProcessPool\u001b[0m: A process in the process pool was terminated abruptly while the future was running or pending."
     ]
    }
   ],
   "source": [
    "from concurrent.futures import ProcessPoolExecutor, as_completed\n",
    "from tqdm.notebook import tqdm\n",
    "\n",
    "ranges = [10, 10]\n",
    "with ProcessPoolExecutor(max_workers=2) as executor:\n",
    "    # results = list(tqdm(executor.map(process_range, ranges), total=len(ranges)))\n",
    "    # results = executor.map(process_range, ranges)\n",
    "\n",
    "    # for result in results:\n",
    "    #     print(result)\n",
    "\n",
    "    l = len(ranges)\n",
    "    # with tqdm(total=l) as pbar:\n",
    "    with ProcessPoolExecutor() as executor:\n",
    "        futures = {executor.submit(process_range, x): x for x in ranges}\n",
    "        results = {}\n",
    "        for future in as_completed(futures):\n",
    "            results[futures[future]] = future.result()\n",
    "                # pbar.update(1)\n",
    "        print(results)"
   ]
  },
  {
   "cell_type": "code",
   "execution_count": null,
   "metadata": {},
   "outputs": [],
   "source": [
    "\n",
    "\n",
    "seed_ranges = seeds\n",
    "min_loc = None\n",
    "\n",
    "for i in range(0, len(seed_ranges), 2):\n",
    "    start = seed_ranges[i]\n",
    "    stop = seed_ranges[i] + seed_ranges[i+1]\n",
    "\n",
    "    with tqdm(total=stop-start) as pbar:\n",
    "        for seed_num in range(start, stop):\n",
    "            loc = get_seed_location(seed_num)\n",
    "            if min_loc is None or loc < min_loc:\n",
    "                min_loc = loc\n",
    "            pbar.update(1)\n",
    "\n",
    "print(min_loc)"
   ]
  },
  {
   "cell_type": "code",
   "execution_count": null,
   "metadata": {},
   "outputs": [],
   "source": []
  }
 ],
 "metadata": {
  "kernelspec": {
   "display_name": "Python 3",
   "language": "python",
   "name": "python3"
  },
  "language_info": {
   "codemirror_mode": {
    "name": "ipython",
    "version": 3
   },
   "file_extension": ".py",
   "mimetype": "text/x-python",
   "name": "python",
   "nbconvert_exporter": "python",
   "pygments_lexer": "ipython3",
   "version": "3.12.0"
  }
 },
 "nbformat": 4,
 "nbformat_minor": 2
}
