{
 "cells": [
  {
   "cell_type": "markdown",
   "metadata": {},
   "source": [
    "### Part 1\n"
   ]
  },
  {
   "cell_type": "code",
   "execution_count": 1,
   "metadata": {},
   "outputs": [
    {
     "name": "stdout",
     "output_type": "stream",
     "text": [
      "[(46, 347), (82, 1522), (84, 1406), (79, 1471)]\n"
     ]
    }
   ],
   "source": [
    "races = []\n",
    "with open('input.txt') as f:\n",
    "    lines = f.readlines()\n",
    "    times = [int(x) for x in lines[0].split(':')[-1].strip().split(' ') if x != '']\n",
    "    distances = [int(x) for x in lines[1].split(':')[-1].strip().split(' ') if x != '']\n",
    "    races.extend((times[i], distances[i]) for i in range(len(times)))\n",
    "print(races)"
   ]
  },
  {
   "cell_type": "code",
   "execution_count": 2,
   "metadata": {},
   "outputs": [
    {
     "name": "stdout",
     "output_type": "stream",
     "text": [
      "449550\n"
     ]
    }
   ],
   "source": [
    "m = 1\n",
    "for race in races:\n",
    "    win_count = 0\n",
    "    max_time, record_dist = race[0], race[1]\n",
    "    for time in range(max_time+1):\n",
    "        speed = time\n",
    "        distance = speed * (max_time - time)\n",
    "\n",
    "        if distance > record_dist:\n",
    "            win_count += 1\n",
    "    m *= win_count\n",
    "print(m)"
   ]
  },
  {
   "cell_type": "markdown",
   "metadata": {},
   "source": [
    "### Part 2\n"
   ]
  },
  {
   "cell_type": "code",
   "execution_count": 3,
   "metadata": {},
   "outputs": [
    {
     "name": "stdout",
     "output_type": "stream",
     "text": [
      "(46828479, 347152214061471)\n"
     ]
    }
   ],
   "source": [
    "race = None\n",
    "with open('input.txt') as f:\n",
    "    lines = f.readlines()\n",
    "    time = lines[0].split(':')[-1]\n",
    "    while ' ' in time:\n",
    "        time = time.replace(' ', '')\n",
    "    dist = lines[1].split(':')[-1]\n",
    "    while ' ' in dist:\n",
    "        dist = dist.replace(' ', '')\n",
    "    race = (int(time), int(dist))\n",
    "print(race)"
   ]
  },
  {
   "cell_type": "code",
   "execution_count": 4,
   "metadata": {},
   "outputs": [
    {
     "data": {
      "application/vnd.jupyter.widget-view+json": {
       "model_id": "47a850596cf947e0af43498e0c7b062f",
       "version_major": 2,
       "version_minor": 0
      },
      "text/plain": [
       "  0%|          | 0/46828480 [00:00<?, ?it/s]"
      ]
     },
     "metadata": {},
     "output_type": "display_data"
    },
    {
     "name": "stdout",
     "output_type": "stream",
     "text": [
      "28360140\n"
     ]
    }
   ],
   "source": [
    "from tqdm.notebook import tqdm\n",
    "\n",
    "win_count = 0\n",
    "max_time, record_dist = race[0], race[1]\n",
    "with tqdm(total=max_time+1) as pbar:\n",
    "    for time in range(max_time+1):\n",
    "        speed = time\n",
    "        distance = speed * (max_time - time)\n",
    "\n",
    "        if distance > record_dist:\n",
    "            win_count += 1\n",
    "        pbar.update(1)\n",
    "print(win_count)"
   ]
  },
  {
   "cell_type": "code",
   "execution_count": null,
   "metadata": {},
   "outputs": [],
   "source": []
  }
 ],
 "metadata": {
  "kernelspec": {
   "display_name": "Python 3",
   "language": "python",
   "name": "python3"
  },
  "language_info": {
   "codemirror_mode": {
    "name": "ipython",
    "version": 3
   },
   "file_extension": ".py",
   "mimetype": "text/x-python",
   "name": "python",
   "nbconvert_exporter": "python",
   "pygments_lexer": "ipython3",
   "version": "3.12.0"
  }
 },
 "nbformat": 4,
 "nbformat_minor": 2
}
