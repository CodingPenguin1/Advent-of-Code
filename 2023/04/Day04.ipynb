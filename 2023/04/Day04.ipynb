{
 "cells": [
  {
   "cell_type": "markdown",
   "metadata": {},
   "source": [
    "### Part 1\n"
   ]
  },
  {
   "cell_type": "code",
   "execution_count": 1,
   "metadata": {},
   "outputs": [],
   "source": [
    "def process_card(card):\n",
    "    vals = card.strip()\n",
    "    vals = vals[vals.index(':')+1:]\n",
    "    vals = vals.split(' ')\n",
    "    vals = [v for v in vals if v != '']\n",
    "\n",
    "    winning_numbers = [int(v) for v in vals[:vals.index('|')]]\n",
    "    nums = [int(v) for v in vals[vals.index('|')+1:]]\n",
    "\n",
    "    score = 0\n",
    "    for num in nums:\n",
    "        if num in winning_numbers:\n",
    "            if score == 0:\n",
    "                score = 1\n",
    "            else:\n",
    "                score *= 2\n",
    "    return score"
   ]
  },
  {
   "cell_type": "code",
   "execution_count": 2,
   "metadata": {},
   "outputs": [
    {
     "name": "stdout",
     "output_type": "stream",
     "text": [
      "18619\n"
     ]
    }
   ],
   "source": [
    "sum_ = 0\n",
    "with open('input.txt') as f:\n",
    "    for line in f:\n",
    "        sum_ += process_card(line)\n",
    "print(sum_)"
   ]
  },
  {
   "cell_type": "markdown",
   "metadata": {},
   "source": [
    "### Part 2\n"
   ]
  },
  {
   "cell_type": "code",
   "execution_count": 3,
   "metadata": {},
   "outputs": [],
   "source": [
    "def process_card(card):\n",
    "    card_num = int(card[:card.index(':')].split(' ')[-1])\n",
    "\n",
    "    vals = card.strip()\n",
    "    vals = vals[vals.index(':')+1:]\n",
    "    vals = vals.split(' ')\n",
    "    vals = [v for v in vals if v != '']\n",
    "\n",
    "    winning_numbers = [int(v) for v in vals[:vals.index('|')]]\n",
    "    nums = [int(v) for v in vals[vals.index('|')+1:]]\n",
    "\n",
    "    score = sum(1 for num in nums if num in winning_numbers)\n",
    "    return card_num, score"
   ]
  },
  {
   "cell_type": "code",
   "execution_count": 4,
   "metadata": {},
   "outputs": [],
   "source": [
    "cards = []  # (card_num, score)\n",
    "with open('input.txt') as f:\n",
    "    cards.extend(process_card(line) for line in f)"
   ]
  },
  {
   "cell_type": "code",
   "execution_count": 5,
   "metadata": {},
   "outputs": [],
   "source": [
    "def process_single_card_recursive(cards, card_num, depth=0):\n",
    "    score = cards[card_num-1][1]\n",
    "\n",
    "    if score == 0:\n",
    "        print(' '*depth + str(card_num))\n",
    "        return []\n",
    "\n",
    "    subsequent_cards = list(range(card_num+1, card_num+score+1))\n",
    "    print(' '*depth + str(card_num))\n",
    "    for card in subsequent_cards:\n",
    "        subsequent_cards.extend(process_single_card_recursive(cards, card, depth+1))\n",
    "        if depth == 0:\n",
    "            break\n",
    "    return subsequent_cards\n",
    "\n",
    "def process_single_card_while(cards, card_num):\n",
    "    score = cards[card_num-1][1]\n",
    "\n",
    "    if score == 0:\n",
    "        return [], 0\n",
    "\n",
    "    subsequent_cards = list(range(card_num+1, card_num+score+1))\n",
    "    count = 0\n",
    "    while subsequent_cards:\n",
    "        card = subsequent_cards.pop(0)\n",
    "        new_cards, new_count = process_single_card_while(cards, card)\n",
    "        subsequent_cards.extend(new_cards)\n",
    "        count += 1 + new_count\n",
    "    return subsequent_cards, count\n"
   ]
  },
  {
   "cell_type": "code",
   "execution_count": 6,
   "metadata": {},
   "outputs": [
    {
     "name": "stdout",
     "output_type": "stream",
     "text": [
      "8063216\n"
     ]
    }
   ],
   "source": [
    "card_count = sum(process_single_card_while(cards, i + 1)[1] + 1 for i in range(len(cards)))\n",
    "print(card_count)"
   ]
  },
  {
   "cell_type": "code",
   "execution_count": null,
   "metadata": {},
   "outputs": [],
   "source": []
  }
 ],
 "metadata": {
  "kernelspec": {
   "display_name": "Python 3",
   "language": "python",
   "name": "python3"
  },
  "language_info": {
   "codemirror_mode": {
    "name": "ipython",
    "version": 3
   },
   "file_extension": ".py",
   "mimetype": "text/x-python",
   "name": "python",
   "nbconvert_exporter": "python",
   "pygments_lexer": "ipython3",
   "version": "3.12.0"
  }
 },
 "nbformat": 4,
 "nbformat_minor": 2
}
