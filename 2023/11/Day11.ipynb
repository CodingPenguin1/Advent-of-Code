{
 "cells": [
  {
   "cell_type": "markdown",
   "metadata": {},
   "source": [
    "### Part 1\n"
   ]
  },
  {
   "cell_type": "code",
   "execution_count": 53,
   "metadata": {},
   "outputs": [],
   "source": [
    "import itertools\n",
    "\n",
    "def expand_and_get_galaxy_coords(arr, expansion_factor=1):\n",
    "    expansion_factor = 1 if expansion_factor < 1 else expansion_factor - 1\n",
    "\n",
    "    galaxy_coords = [\n",
    "        [r, c]\n",
    "        for r, c in itertools.product(range(len(arr)), range(len(arr[0])))\n",
    "        if arr[r][c] == '#'\n",
    "    ]\n",
    "    rows_to_expand = [i for i, row in enumerate(arr) if all(x == '.' for x in row)]\n",
    "    cols_to_expand = [i for i, col in enumerate(zip(*arr)) if all(x == '.' for x in col)]\n",
    "\n",
    "    for galaxy in galaxy_coords:\n",
    "        galaxy[0] += sum(expansion_factor for i in rows_to_expand if i < galaxy[0])\n",
    "        galaxy[1] +=  sum(expansion_factor for i in cols_to_expand if i < galaxy[1])\n",
    "\n",
    "    return galaxy_coords"
   ]
  },
  {
   "cell_type": "code",
   "execution_count": 54,
   "metadata": {},
   "outputs": [],
   "source": [
    "def distance(galaxy_1, galaxy_2):\n",
    "    return abs(galaxy_1[0] - galaxy_2[0]) + abs(galaxy_1[1] - galaxy_2[1])"
   ]
  },
  {
   "cell_type": "code",
   "execution_count": 55,
   "metadata": {},
   "outputs": [
    {
     "name": "stdout",
     "output_type": "stream",
     "text": [
      "10107092\n"
     ]
    }
   ],
   "source": [
    "with open('input.txt') as f:\n",
    "    arr = [list(x.strip()) for x in f.readlines()]\n",
    "\n",
    "galaxies = expand_and_get_galaxy_coords(arr)\n",
    "\n",
    "# All combinations of galaxies\n",
    "galaxy_combos = itertools.combinations(galaxies, 2)\n",
    "print(sum(distance(*pair) for pair in galaxy_combos))"
   ]
  },
  {
   "cell_type": "markdown",
   "metadata": {},
   "source": [
    "### Part 2\n"
   ]
  },
  {
   "cell_type": "code",
   "execution_count": 56,
   "metadata": {},
   "outputs": [
    {
     "name": "stdout",
     "output_type": "stream",
     "text": [
      "382979724122\n"
     ]
    }
   ],
   "source": [
    "galaxies = expand_and_get_galaxy_coords(arr, 1_000_000)\n",
    "\n",
    "# All combinations of galaxies\n",
    "galaxy_combos = itertools.combinations(galaxies, 2)\n",
    "print(sum(distance(*pair) for pair in galaxy_combos))"
   ]
  }
 ],
 "metadata": {
  "kernelspec": {
   "display_name": "Python 3",
   "language": "python",
   "name": "python3"
  },
  "language_info": {
   "codemirror_mode": {
    "name": "ipython",
    "version": 3
   },
   "file_extension": ".py",
   "mimetype": "text/x-python",
   "name": "python",
   "nbconvert_exporter": "python",
   "pygments_lexer": "ipython3",
   "version": "3.12.0"
  }
 },
 "nbformat": 4,
 "nbformat_minor": 2
}
