{
 "cells": [
  {
   "cell_type": "markdown",
   "metadata": {},
   "source": [
    "### Part 1\n"
   ]
  },
  {
   "cell_type": "code",
   "execution_count": 1,
   "metadata": {},
   "outputs": [
    {
     "name": "stdout",
     "output_type": "stream",
     "text": [
      "55971\n"
     ]
    }
   ],
   "source": [
    "with open('input.txt') as f:\n",
    "    content = f.readlines()\n",
    "\n",
    "    sum_ = 0\n",
    "    for line in content:\n",
    "        num = ''\n",
    "        for char in line:\n",
    "            if char.isdigit():\n",
    "                num += char\n",
    "                break\n",
    "        for char in line[::-1]:\n",
    "            if char.isdigit():\n",
    "                num += char\n",
    "                break\n",
    "        sum_ += int(num)\n",
    "    print(sum_)"
   ]
  },
  {
   "cell_type": "markdown",
   "metadata": {},
   "source": [
    "### Part 2\n"
   ]
  },
  {
   "cell_type": "code",
   "execution_count": 2,
   "metadata": {},
   "outputs": [
    {
     "name": "stdout",
     "output_type": "stream",
     "text": [
      "54719\n"
     ]
    }
   ],
   "source": [
    "def get_val(line, index):\n",
    "    if line[index].isdigit():\n",
    "        return line[index]\n",
    "\n",
    "    conversion = {\n",
    "                    'one': '1',\n",
    "                    'two': '2',\n",
    "                    'three': '3',\n",
    "                    'four': '4',\n",
    "                    'five': '5',\n",
    "                    'six': '6',\n",
    "                    'seven': '7',\n",
    "                    'eight': '8',\n",
    "                    'nine': '9',\n",
    "                }\n",
    "\n",
    "    # If letter, find last letter\n",
    "    for i in range(index, len(line)):\n",
    "        word = line[index:i]\n",
    "        try:\n",
    "            return conversion[word]\n",
    "        except KeyError:\n",
    "            pass\n",
    "\n",
    "\n",
    "    return False\n",
    "\n",
    "with open('input.txt') as f:\n",
    "    content = f.readlines()\n",
    "\n",
    "    sum_ = 0\n",
    "    for line in content:\n",
    "        nums = []\n",
    "        for i in range(len(line)):\n",
    "            if val := get_val(line, i):\n",
    "                nums.append(val)\n",
    "\n",
    "        sum_ += int(nums[0] + nums[-1])\n",
    "    print(sum_)"
   ]
  },
  {
   "cell_type": "code",
   "execution_count": null,
   "metadata": {},
   "outputs": [],
   "source": []
  }
 ],
 "metadata": {
  "kernelspec": {
   "display_name": "Python 3",
   "language": "python",
   "name": "python3"
  },
  "language_info": {
   "codemirror_mode": {
    "name": "ipython",
    "version": 3
   },
   "file_extension": ".py",
   "mimetype": "text/x-python",
   "name": "python",
   "nbconvert_exporter": "python",
   "pygments_lexer": "ipython3",
   "version": "3.12.0"
  }
 },
 "nbformat": 4,
 "nbformat_minor": 2
}
