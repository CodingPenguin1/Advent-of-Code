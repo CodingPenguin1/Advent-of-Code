{
 "cells": [
  {
   "cell_type": "markdown",
   "metadata": {},
   "source": [
    "### Part 1\n"
   ]
  },
  {
   "cell_type": "code",
   "execution_count": 84,
   "metadata": {},
   "outputs": [],
   "source": [
    "def predict(data):\n",
    "    data = [data]\n",
    "\n",
    "    # Reduce\n",
    "    while any(data[-1]):\n",
    "        new_line = [data[-1][i+1] - data[-1][i] for i in range(len(data[-1])-1)]\n",
    "        data.append(new_line)\n",
    "\n",
    "    # Predict\n",
    "    for i in range(len(data)-2, -1, -1):\n",
    "        prediction = data[i+1][-1] + data[i][-1]\n",
    "        data[i].append(prediction)\n",
    "\n",
    "    return data[0][-1]"
   ]
  },
  {
   "cell_type": "code",
   "execution_count": 85,
   "metadata": {},
   "outputs": [
    {
     "name": "stdout",
     "output_type": "stream",
     "text": [
      "1955513104\n"
     ]
    }
   ],
   "source": [
    "with open('input.txt') as f:\n",
    "    data = f.read().splitlines()\n",
    "\n",
    "s = 0\n",
    "for line in data:\n",
    "    result = predict([int(i) for i in line.split(' ')])\n",
    "    s += result\n",
    "print(s)"
   ]
  },
  {
   "cell_type": "markdown",
   "metadata": {},
   "source": [
    "### Part 2\n"
   ]
  },
  {
   "cell_type": "code",
   "execution_count": 86,
   "metadata": {},
   "outputs": [],
   "source": [
    "def predict_backwards(data):\n",
    "    data = [data]\n",
    "\n",
    "    # Reduce\n",
    "    while any(data[-1]):\n",
    "        new_line = [data[-1][i+1] - data[-1][i] for i in range(len(data[-1])-1)]\n",
    "        data.append(new_line)\n",
    "\n",
    "    # Predict\n",
    "    for i in range(len(data)-2, -1, -1):\n",
    "        prediction = data[i][0] - data[i+1][0]\n",
    "        data[i].insert(0, prediction)\n",
    "\n",
    "    return data[0][0]"
   ]
  },
  {
   "cell_type": "code",
   "execution_count": 87,
   "metadata": {},
   "outputs": [
    {
     "name": "stdout",
     "output_type": "stream",
     "text": [
      "1131\n"
     ]
    }
   ],
   "source": [
    "s = 0\n",
    "for line in data:\n",
    "    result = predict_backwards([int(i) for i in line.split(' ')])\n",
    "    s += result\n",
    "print(s)"
   ]
  },
  {
   "cell_type": "code",
   "execution_count": null,
   "metadata": {},
   "outputs": [],
   "source": []
  }
 ],
 "metadata": {
  "kernelspec": {
   "display_name": "Python 3",
   "language": "python",
   "name": "python3"
  },
  "language_info": {
   "codemirror_mode": {
    "name": "ipython",
    "version": 3
   },
   "file_extension": ".py",
   "mimetype": "text/x-python",
   "name": "python",
   "nbconvert_exporter": "python",
   "pygments_lexer": "ipython3",
   "version": "3.12.0"
  }
 },
 "nbformat": 4,
 "nbformat_minor": 2
}
