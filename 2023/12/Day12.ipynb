{
 "cells": [
  {
   "cell_type": "markdown",
   "metadata": {},
   "source": [
    "### Part 1\n"
   ]
  },
  {
   "cell_type": "code",
   "execution_count": 25,
   "metadata": {},
   "outputs": [],
   "source": [
    "def check_arrangement(arr, groups):\n",
    "    current_group_size = 0\n",
    "    group_sizes = []\n",
    "    for i in range(len(arr)):\n",
    "        if arr[i] == '#':\n",
    "            current_group_size += 1\n",
    "        else:\n",
    "            if current_group_size > 0:\n",
    "                group_sizes.append(current_group_size)\n",
    "                current_group_size = 0\n",
    "    if current_group_size > 0:\n",
    "        group_sizes.append(current_group_size)\n",
    "\n",
    "    if group_sizes == groups:\n",
    "        return True\n",
    "    else:\n",
    "        return False"
   ]
  },
  {
   "cell_type": "code",
   "execution_count": 26,
   "metadata": {},
   "outputs": [],
   "source": [
    "import itertools\n",
    "\n",
    "def count(line):\n",
    "    unknown = line.split(' ')[0]\n",
    "    groups = [int(i) for i in line.split(' ')[1].split(',')]\n",
    "\n",
    "    valid_arrangements = 0\n",
    "    question_indicies = [i for i in range(len(unknown)) if unknown[i] == '?']\n",
    "    for i in range(len(question_indicies)+1):\n",
    "        for c in itertools.combinations(question_indicies, i):\n",
    "            a = list(unknown)\n",
    "            for i in c:\n",
    "                a[i] = '#'\n",
    "\n",
    "            arrangement = ''.join(a)\n",
    "            if check_arrangement(arrangement, groups):\n",
    "                valid_arrangements += 1\n",
    "    return valid_arrangements"
   ]
  },
  {
   "cell_type": "code",
   "execution_count": 31,
   "metadata": {},
   "outputs": [
    {
     "data": {
      "application/vnd.jupyter.widget-view+json": {
       "model_id": "8a35babb591e441ba2e852544edda137",
       "version_major": 2,
       "version_minor": 0
      },
      "text/plain": [
       "  0%|          | 0/6 [00:00<?, ?it/s]"
      ]
     },
     "metadata": {},
     "output_type": "display_data"
    },
    {
     "name": "stdout",
     "output_type": "stream",
     "text": [
      "???.### 1,1,3 1\n",
      ".??..??...?##. 1,1,3 4\n",
      "?#?#?#?#?#?#?#? 1,3,1,6 1\n",
      "????.#...#... 4,1,1 1\n",
      "????.######..#####. 1,6,5 4\n",
      "?###???????? 3,2,1 10\n",
      "21\n"
     ]
    }
   ],
   "source": [
    "from tqdm.notebook import tqdm\n",
    "\n",
    "with open('input.txt') as f:\n",
    "    lines = f.readlines()\n",
    "\n",
    "with tqdm(total=len(lines)) as pbar:\n",
    "    c = 0\n",
    "    for line in lines:\n",
    "        line_count = count(line.strip())\n",
    "        c += line_count\n",
    "        print(line.strip(), line_count)\n",
    "        pbar.update(1)\n",
    "print(c)"
   ]
  },
  {
   "cell_type": "markdown",
   "metadata": {},
   "source": [
    "### Part 2\n"
   ]
  },
  {
   "cell_type": "code",
   "execution_count": 28,
   "metadata": {},
   "outputs": [
    {
     "name": "stdout",
     "output_type": "stream",
     "text": [
      "???.###????.###????.###????.###????.### 1,1,3,1,1,3,1,1,3,1,1,3,1,1,3\n",
      ".??..??...?##.?.??..??...?##.?.??..??...?##.?.??..??...?##.?.??..??...?##. 1,1,3,1,1,3,1,1,3,1,1,3,1,1,3\n",
      "?#?#?#?#?#?#?#???#?#?#?#?#?#?#???#?#?#?#?#?#?#???#?#?#?#?#?#?#???#?#?#?#?#?#?#? 1,3,1,6,1,3,1,6,1,3,1,6,1,3,1,6,1,3,1,6\n",
      "????.#...#...?????.#...#...?????.#...#...?????.#...#...?????.#...#... 4,1,1,4,1,1,4,1,1,4,1,1,4,1,1\n",
      "????.######..#####.?????.######..#####.?????.######..#####.?????.######..#####.?????.######..#####. 1,6,5,1,6,5,1,6,5,1,6,5,1,6,5\n",
      "?###??????????###??????????###??????????###??????????###???????? 3,2,1,3,2,1,3,2,1,3,2,1,3,2,1\n"
     ]
    }
   ],
   "source": [
    "import concurrent.futures as cf\n",
    "\n",
    "unfolded_lines = []\n",
    "with open('input.txt') as f:\n",
    "    lines = f.readlines()\n",
    "    for line in lines:\n",
    "        springs, groups = line.strip().split(' ')\n",
    "        new_line = '?'.join([springs] * 5) + ' ' + ','.join([groups] * 5)\n",
    "        unfolded_lines.append(new_line)\n",
    "\n",
    "for l in unfolded_lines:\n",
    "    print(l)"
   ]
  },
  {
   "cell_type": "code",
   "execution_count": null,
   "metadata": {},
   "outputs": [],
   "source": []
  }
 ],
 "metadata": {
  "kernelspec": {
   "display_name": "Python 3",
   "language": "python",
   "name": "python3"
  },
  "language_info": {
   "codemirror_mode": {
    "name": "ipython",
    "version": 3
   },
   "file_extension": ".py",
   "mimetype": "text/x-python",
   "name": "python",
   "nbconvert_exporter": "python",
   "pygments_lexer": "ipython3",
   "version": "3.12.0"
  }
 },
 "nbformat": 4,
 "nbformat_minor": 2
}
