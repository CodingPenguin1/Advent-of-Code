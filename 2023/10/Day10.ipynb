{
 "cells": [
  {
   "cell_type": "markdown",
   "metadata": {},
   "source": [
    "### Part 1\n"
   ]
  },
  {
   "cell_type": "code",
   "execution_count": 794,
   "metadata": {},
   "outputs": [],
   "source": [
    "pipes = []\n",
    "with open('input.txt') as f:\n",
    "    lines = f.read().splitlines()\n",
    "    pipes.extend(list(line) for line in lines)"
   ]
  },
  {
   "cell_type": "code",
   "execution_count": 795,
   "metadata": {},
   "outputs": [],
   "source": [
    "distances = [[0 for _ in range(len(pipes[0]))] for _ in range(len(pipes))]\n",
    "\n",
    "current = [0, 0]\n",
    "for i, line in enumerate(pipes):\n",
    "    for j, char in enumerate(line):\n",
    "        if char == 'S':\n",
    "            current = [i, j]\n",
    "            break"
   ]
  },
  {
   "cell_type": "code",
   "execution_count": 796,
   "metadata": {},
   "outputs": [],
   "source": [
    "def get_directions_to_move(current, pipes, previous_move=None):\n",
    "    connections = []  # Connections of the current cell outwards\n",
    "    # Up\n",
    "    if pipes[current[0]][current[1]] in '|LJS':\n",
    "        connections.append('U')\n",
    "    # Down\n",
    "    if pipes[current[0]][current[1]] in '|7FS':\n",
    "        connections.append('D')\n",
    "    # Left\n",
    "    if pipes[current[0]][current[1]] in '-7JS':\n",
    "        connections.append('L')\n",
    "    # Right\n",
    "    if pipes[current[0]][current[1]] in '-FLS':\n",
    "        connections.append('R')\n",
    "\n",
    "    # Filter self_connections by only those that point into a cell which points into the current cell\n",
    "    # Up\n",
    "    if 'U' in connections:\n",
    "        if current[0] - 1 < 0 or pipes[current[0] - 1][current[1]] in '-LJ.':\n",
    "            connections.remove('U')\n",
    "    # Down\n",
    "    if 'D' in connections:\n",
    "        if current[0] + 1 >= len(pipes) or pipes[current[0] + 1][current[1]] in '-7F.':\n",
    "            connections.remove('D')\n",
    "    # Left\n",
    "    if 'L' in connections:\n",
    "        if current[1] - 1 < 0 or pipes[current[0]][current[1] - 1] in '|7J.':\n",
    "            connections.remove('L')\n",
    "    # Right\n",
    "    if 'R' in connections:\n",
    "        if current[1] + 1 >= len(pipes[1]) or pipes[current[0]][current[1] + 1] in '|FL.':\n",
    "            connections.remove('R')\n",
    "\n",
    "    # Filter previous_move\n",
    "    if previous_move:\n",
    "        if previous_move == 'U':\n",
    "            connections.remove('D')\n",
    "        elif previous_move == 'D':\n",
    "            connections.remove('U')\n",
    "        elif previous_move == 'L':\n",
    "            connections.remove('R')\n",
    "        elif previous_move == 'R':\n",
    "            connections.remove('L')\n",
    "\n",
    "    return connections"
   ]
  },
  {
   "cell_type": "code",
   "execution_count": 797,
   "metadata": {},
   "outputs": [],
   "source": [
    "def move(current, direction):\n",
    "    if direction == 'U':\n",
    "        return [current[0] - 1, current[1]], direction\n",
    "    elif direction == 'D':\n",
    "        return [current[0] + 1, current[1]], direction\n",
    "    elif direction == 'L':\n",
    "        return [current[0], current[1] - 1], direction\n",
    "    elif direction == 'R':\n",
    "        return [current[0], current[1] + 1], direction"
   ]
  },
  {
   "cell_type": "code",
   "execution_count": 798,
   "metadata": {},
   "outputs": [
    {
     "name": "stdout",
     "output_type": "stream",
     "text": [
      "FINISH - DIST = 7005\n"
     ]
    }
   ],
   "source": [
    "initial_directions = get_directions_to_move(current, pipes)\n",
    "for initial_dir in initial_directions:\n",
    "    distance = 1\n",
    "    current, previous_dir = move(current, initial_dir)\n",
    "    distances[current[0]][current[1]] = distance\n",
    "\n",
    "    while True:\n",
    "        directions = get_directions_to_move(current, pipes, previous_dir)\n",
    "        if len(directions) > 1:\n",
    "            print('JUNCTION - ERROR')\n",
    "            break\n",
    "\n",
    "        current, previous_dir = move(current, directions[0])\n",
    "\n",
    "        if pipes[current[0]][current[1]] == 'S':\n",
    "            break\n",
    "\n",
    "        distance += 1\n",
    "        if distances[current[0]][current[1]] == distance:\n",
    "            print(f'FINISH - DIST = {distance}')\n",
    "            break\n",
    "        distances[current[0]][current[1]] = distance"
   ]
  },
  {
   "cell_type": "markdown",
   "metadata": {},
   "source": [
    "### Part 2\n"
   ]
  },
  {
   "cell_type": "code",
   "execution_count": 799,
   "metadata": {},
   "outputs": [],
   "source": [
    "def check_cell(row, col):\n",
    "    if distances[row][col] == 0 and pipes[row][col] != 'S':\n",
    "        vert_count, hor_count = 0, 0\n",
    "\n",
    "        prev_val = ''\n",
    "        for r in range(row):\n",
    "            if pipes[r][col] in '-LFJ7S' and distances[r][col] != 0:\n",
    "                cur_val = pipes[r][col]\n",
    "                if prev_val == 'F':\n",
    "                    if cur_val == 'L':\n",
    "                        hor_count += 1\n",
    "                    elif cur_val == 'J':\n",
    "                        hor_count += 2\n",
    "                elif prev_val == '7':\n",
    "                    if cur_val == 'J':\n",
    "                        hor_count += 1\n",
    "                    elif cur_val == 'L':\n",
    "                        hor_count += 2\n",
    "                elif cur_val in '-LFJ7S':\n",
    "                    hor_count += 1\n",
    "                prev_val = cur_val\n",
    "\n",
    "        prev_val = ''\n",
    "        for c in range(col):\n",
    "            if pipes[row][c] in '|LFJ7S' and distances[row][c] != 0:\n",
    "                cur_val = pipes[row][c]\n",
    "                if prev_val == 'L':\n",
    "                    if cur_val == 'J':\n",
    "                        vert_count += 1\n",
    "                    elif cur_val == '7':\n",
    "                        vert_count += 2\n",
    "                elif prev_val == 'F':\n",
    "                    if cur_val == '7':\n",
    "                        vert_count += 1\n",
    "                    elif cur_val == 'J':\n",
    "                        vert_count += 2\n",
    "                elif cur_val in '|LFJ7S':\n",
    "                    vert_count += 1\n",
    "                prev_val = cur_val\n",
    "\n",
    "        if vert_count % 2 and hor_count % 2:\n",
    "            return True\n",
    "    return False"
   ]
  },
  {
   "cell_type": "code",
   "execution_count": 800,
   "metadata": {},
   "outputs": [
    {
     "name": "stdout",
     "output_type": "stream",
     "text": [
      "AREA = 417\n"
     ]
    }
   ],
   "source": [
    "import itertools\n",
    "\n",
    "area_map = [[0 for _ in range(len(pipes[0]))] for _ in range(len(pipes))]\n",
    "for r, c in itertools.product(range(len(distances)), range(len(distances[0]))):\n",
    "    if a := check_cell(r, c):\n",
    "        area_map[r][c] = 1\n",
    "\n",
    "area = 0\n",
    "for item in area_map:\n",
    "    for c in range(len(area_map[0])):\n",
    "        if item[c] == 1:\n",
    "            area += 1\n",
    "print(f'AREA = {area}')"
   ]
  },
  {
   "cell_type": "code",
   "execution_count": null,
   "metadata": {},
   "outputs": [],
   "source": []
  }
 ],
 "metadata": {
  "kernelspec": {
   "display_name": "Python 3",
   "language": "python",
   "name": "python3"
  },
  "language_info": {
   "codemirror_mode": {
    "name": "ipython",
    "version": 3
   },
   "file_extension": ".py",
   "mimetype": "text/x-python",
   "name": "python",
   "nbconvert_exporter": "python",
   "pygments_lexer": "ipython3",
   "version": "3.12.0"
  }
 },
 "nbformat": 4,
 "nbformat_minor": 2
}
