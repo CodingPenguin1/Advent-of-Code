{
 "cells": [
  {
   "cell_type": "markdown",
   "metadata": {},
   "source": [
    "### Part 1\n"
   ]
  },
  {
   "cell_type": "code",
   "execution_count": 177,
   "metadata": {},
   "outputs": [],
   "source": [
    "card_strength = ['A', 'K', 'Q', 'J', 'T', '9', '8', '7', '6', '5', '4', '3','2']\n",
    "\n",
    "hands = []\n",
    "with open('input.txt') as f:\n",
    "    for line in f:\n",
    "        l = line.strip().split(' ')\n",
    "        hands.append([list(l[0]), int(l[1]), 0])  # [cards, bid, strength]"
   ]
  },
  {
   "cell_type": "code",
   "execution_count": 178,
   "metadata": {},
   "outputs": [],
   "source": [
    "def get_hand_strength(hand):\n",
    "    hand = hand[0]\n",
    "    hand_strength = 0\n",
    "\n",
    "    # Check for 5 of a kind\n",
    "    if len(set(hand)) == 1:\n",
    "        hand_strength = 1\n",
    "\n",
    "    # Check for 4 of a kind\n",
    "    if len(set(hand)) == 2:\n",
    "        for card in set(hand):\n",
    "            if hand.count(card) == 4:\n",
    "                hand_strength = 2\n",
    "\n",
    "    # Check for full house\n",
    "    if len(set(hand)) == 2:\n",
    "        card_types = list(set(hand))\n",
    "        if (hand.count(card_types[0]) == 3 and hand.count(card_types[1]) == 2) or (hand.count(card_types[0]) == 2 and hand.count(card_types[1]) == 3):\n",
    "            hand_strength = 3\n",
    "\n",
    "    # Check for 3 of a kind\n",
    "    if len(set(hand)) == 3:\n",
    "        for card in set(hand):\n",
    "            if hand.count(card) == 3:\n",
    "                hand_strength = 4\n",
    "\n",
    "    # Check for 2 pairs\n",
    "    if len(set(hand)) == 3:\n",
    "        card_types = list(set(hand))\n",
    "        if (hand.count(card_types[0]) == 2 and hand.count(card_types[1]) == 2 and hand.count(card_types[2]) == 1) \\\n",
    "        or (hand.count(card_types[0]) == 2 and hand.count(card_types[1]) == 1 and hand.count(card_types[2]) == 2) \\\n",
    "        or (hand.count(card_types[0]) == 1 and hand.count(card_types[1]) == 2 and hand.count(card_types[2]) == 2):\n",
    "            hand_strength = 5\n",
    "\n",
    "    # Check for 1 pair\n",
    "    if len(set(hand)) == 4:\n",
    "        for card in set(hand):\n",
    "            if hand.count(card) == 2:\n",
    "                hand_strength = 6\n",
    "\n",
    "    # Check for high card\n",
    "    if len(set(hand)) == 5:\n",
    "        hand_strength = 7\n",
    "\n",
    "    return hand_strength\n",
    "\n",
    "def compare_hands(hand_1, hand_2):\n",
    "    h1_strength = hand_1[2]\n",
    "    h2_strength = hand_2[2]\n",
    "\n",
    "    # Return True if h1 is better than h2\n",
    "    if h1_strength < h2_strength:\n",
    "        return True\n",
    "    elif h1_strength > h2_strength:\n",
    "        return False\n",
    "    else:\n",
    "        # If strengths are same, go off highest card not the same between the two\n",
    "        for i in range(5):\n",
    "            if hand_1[0][i] != hand_2[0][i]:\n",
    "                h1_high_card = card_strength.index(hand_1[0][i])\n",
    "                h2_high_card = card_strength.index(hand_2[0][i])\n",
    "                return h1_high_card < h2_high_card"
   ]
  },
  {
   "cell_type": "code",
   "execution_count": 179,
   "metadata": {},
   "outputs": [],
   "source": [
    "for h in hands:\n",
    "    h[2] = get_hand_strength(h)\n",
    "\n",
    "# Sort hands with compare_hands()\n",
    "sorted_hands = []\n",
    "for h in hands:\n",
    "    if not sorted_hands:\n",
    "        sorted_hands.append(h)\n",
    "    else:\n",
    "        for i in range(len(sorted_hands)):\n",
    "            if compare_hands(h, sorted_hands[i]):\n",
    "                sorted_hands.insert(i, h)\n",
    "                break\n",
    "            elif i == len(sorted_hands)-1:\n",
    "                sorted_hands.append(h)\n",
    "sorted_hands.reverse()"
   ]
  },
  {
   "cell_type": "code",
   "execution_count": 180,
   "metadata": {},
   "outputs": [
    {
     "data": {
      "text/plain": [
       "251545216"
      ]
     },
     "execution_count": 180,
     "metadata": {},
     "output_type": "execute_result"
    }
   ],
   "source": [
    "sum(h[1] * (i+1) for i, h in enumerate(sorted_hands))"
   ]
  },
  {
   "cell_type": "markdown",
   "metadata": {},
   "source": [
    "### Part 2\n"
   ]
  },
  {
   "cell_type": "code",
   "execution_count": 181,
   "metadata": {},
   "outputs": [],
   "source": [
    "card_strength = ['A', 'K', 'Q', 'T', '9', '8', '7', '6', '5', '4', '3','2', 'J']\n",
    "\n",
    "hands = []\n",
    "with open('input.txt') as f:\n",
    "    for line in f:\n",
    "        l = line.strip().split(' ')\n",
    "        hands.append([list(l[0]), int(l[1]), 0])  # [cards, bid, strength, high card index]"
   ]
  },
  {
   "cell_type": "code",
   "execution_count": 182,
   "metadata": {},
   "outputs": [],
   "source": [
    "from itertools import product\n",
    "\n",
    "def permutations_with_replacement(n, m):\n",
    "    yield from product(list(range(1, m + 1)), repeat=n)\n",
    "\n",
    "def get_hand_strength_wilds(hand):\n",
    "    hand = hand[0]\n",
    "\n",
    "    # Generate all wild permutations of all jokers in the hand\n",
    "    joker_count = hand.count('J')\n",
    "    hand_strength = 8\n",
    "    if joker_count > 0:\n",
    "        test_hands = []\n",
    "        for p in permutations_with_replacement(joker_count, 13):\n",
    "            test_hand = hand.copy()\n",
    "            for i in range(joker_count):\n",
    "                test_hand[test_hand.index('J')] = card_strength[p[i]-1]\n",
    "            test_hands.append(test_hand)\n",
    "\n",
    "        # Remove all test hands with Js\n",
    "        test_hands = [h for h in test_hands if 'J' not in h]\n",
    "\n",
    "        for h in test_hands:\n",
    "            if get_hand_strength([h, 0]) < hand_strength:\n",
    "                hand_strength = get_hand_strength([h, 0])\n",
    "    else:\n",
    "        hand_strength = get_hand_strength([hand, 0])\n",
    "\n",
    "    return hand_strength"
   ]
  },
  {
   "cell_type": "code",
   "execution_count": 183,
   "metadata": {},
   "outputs": [],
   "source": [
    "for h in hands:\n",
    "    h[2] = get_hand_strength_wilds(h)\n",
    "\n",
    "# Sort hands with compare_hands()\n",
    "sorted_hands = []\n",
    "for h in hands:\n",
    "    if not sorted_hands:\n",
    "        sorted_hands.append(h)\n",
    "    else:\n",
    "        for i in range(len(sorted_hands)):\n",
    "            if compare_hands(h, sorted_hands[i]):\n",
    "                sorted_hands.insert(i, h)\n",
    "                break\n",
    "            elif i == len(sorted_hands)-1:\n",
    "                sorted_hands.append(h)\n",
    "sorted_hands.reverse()"
   ]
  },
  {
   "cell_type": "code",
   "execution_count": 184,
   "metadata": {},
   "outputs": [
    {
     "data": {
      "text/plain": [
       "250384185"
      ]
     },
     "execution_count": 184,
     "metadata": {},
     "output_type": "execute_result"
    }
   ],
   "source": [
    "sum(h[1] * (i+1) for i, h in enumerate(sorted_hands))"
   ]
  },
  {
   "cell_type": "code",
   "execution_count": null,
   "metadata": {},
   "outputs": [],
   "source": []
  }
 ],
 "metadata": {
  "kernelspec": {
   "display_name": "Python 3",
   "language": "python",
   "name": "python3"
  },
  "language_info": {
   "codemirror_mode": {
    "name": "ipython",
    "version": 3
   },
   "file_extension": ".py",
   "mimetype": "text/x-python",
   "name": "python",
   "nbconvert_exporter": "python",
   "pygments_lexer": "ipython3",
   "version": "3.12.0"
  }
 },
 "nbformat": 4,
 "nbformat_minor": 2
}
